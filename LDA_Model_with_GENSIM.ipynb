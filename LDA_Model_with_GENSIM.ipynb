{
 "cells": [
  {
   "cell_type": "code",
   "execution_count": 1,
   "metadata": {},
   "outputs": [
    {
     "name": "stderr",
     "output_type": "stream",
     "text": [
      "[nltk_data] Error loading stopwords: <urlopen error [Errno 11001]\n",
      "[nltk_data]     getaddrinfo failed>\n",
      "c:\\Users\\Oshadha Abeyrathne\\AppData\\Local\\Programs\\Python\\Python310\\lib\\site-packages\\pyLDAvis\\_prepare.py:9: DeprecationWarning: \n",
      "Pyarrow will become a required dependency of pandas in the next major release of pandas (pandas 3.0),\n",
      "(to allow more performant data types, such as the Arrow string type, and better interoperability with other libraries)\n",
      "but was not found to be installed on your system.\n",
      "If this would cause problems for you,\n",
      "please provide us feedback at https://github.com/pandas-dev/pandas/issues/54466\n",
      "        \n",
      "  import pandas as pd\n"
     ]
    }
   ],
   "source": [
    "import nltk\n",
    "nltk.download('stopwords')\n",
    "\n",
    "import numpy as np\n",
    "import json\n",
    "import glob\n",
    "\n",
    "import gensim\n",
    "import gensim.corpora as corpora\n",
    "from gensim.utils import simple_preprocess\n",
    "from gensim.models import CoherenceModel\n",
    "\n",
    "import spacy\n",
    "from nltk.corpus import stopwords\n",
    "\n",
    "import pyLDAvis\n",
    "import pyLDAvis.gensim\n",
    "\n",
    "import warnings\n",
    "warnings.filterwarnings(\"ignore\", category=DeprecationWarning)"
   ]
  },
  {
   "cell_type": "code",
   "execution_count": 2,
   "metadata": {},
   "outputs": [],
   "source": [
    "def load_data(file):\n",
    "    with open (file, \"r\", encoding=\"utf-8\") as f:\n",
    "        data = json.load(f) \n",
    "    return (data)\n",
    "\n",
    "def write_data(file, data):\n",
    "    with open (file, \"w\", encoding=\"utf-8\") as f:\n",
    "        json.dump(data, f, indent=4)"
   ]
  },
  {
   "cell_type": "code",
   "execution_count": 3,
   "metadata": {},
   "outputs": [],
   "source": [
    "stopwords = stopwords.words(\"english\")"
   ]
  },
  {
   "cell_type": "code",
   "execution_count": 4,
   "metadata": {},
   "outputs": [
    {
     "name": "stdout",
     "output_type": "stream",
     "text": [
      "['i', 'me', 'my', 'myself', 'we', 'our', 'ours', 'ourselves', 'you', \"you're\", \"you've\", \"you'll\", \"you'd\", 'your', 'yours', 'yourself', 'yourselves', 'he', 'him', 'his', 'himself', 'she', \"she's\", 'her', 'hers', 'herself', 'it', \"it's\", 'its', 'itself', 'they', 'them', 'their', 'theirs', 'themselves', 'what', 'which', 'who', 'whom', 'this', 'that', \"that'll\", 'these', 'those', 'am', 'is', 'are', 'was', 'were', 'be', 'been', 'being', 'have', 'has', 'had', 'having', 'do', 'does', 'did', 'doing', 'a', 'an', 'the', 'and', 'but', 'if', 'or', 'because', 'as', 'until', 'while', 'of', 'at', 'by', 'for', 'with', 'about', 'against', 'between', 'into', 'through', 'during', 'before', 'after', 'above', 'below', 'to', 'from', 'up', 'down', 'in', 'out', 'on', 'off', 'over', 'under', 'again', 'further', 'then', 'once', 'here', 'there', 'when', 'where', 'why', 'how', 'all', 'any', 'both', 'each', 'few', 'more', 'most', 'other', 'some', 'such', 'no', 'nor', 'not', 'only', 'own', 'same', 'so', 'than', 'too', 'very', 's', 't', 'can', 'will', 'just', 'don', \"don't\", 'should', \"should've\", 'now', 'd', 'll', 'm', 'o', 're', 've', 'y', 'ain', 'aren', \"aren't\", 'couldn', \"couldn't\", 'didn', \"didn't\", 'doesn', \"doesn't\", 'hadn', \"hadn't\", 'hasn', \"hasn't\", 'haven', \"haven't\", 'isn', \"isn't\", 'ma', 'mightn', \"mightn't\", 'mustn', \"mustn't\", 'needn', \"needn't\", 'shan', \"shan't\", 'shouldn', \"shouldn't\", 'wasn', \"wasn't\", 'weren', \"weren't\", 'won', \"won't\", 'wouldn', \"wouldn't\"]\n"
     ]
    }
   ],
   "source": [
    "print(stopwords)"
   ]
  },
  {
   "cell_type": "code",
   "execution_count": 5,
   "metadata": {},
   "outputs": [
    {
     "name": "stdout",
     "output_type": "stream",
     "text": [
      "To effectively monitor the spending, we offer an advanced expense tracker. Everyone who plans to kno\n"
     ]
    }
   ],
   "source": [
    "data = load_data(\"data2.json\")[\"abstract\"]\n",
    "\n",
    "print (data[0:100])"
   ]
  },
  {
   "cell_type": "code",
   "execution_count": 6,
   "metadata": {},
   "outputs": [
    {
     "name": "stdout",
     "output_type": "stream",
     "text": [
      "spending advanced expense tracker expense approach receipt user application user own category food clothe rent bill upper low bound category project specific user demographic age range available track spending overall goal project user overall spending behavior mobile application user transaction receipt\n"
     ]
    }
   ],
   "source": [
    "def lemmatization(texts, allowed_postags=[\"NOUN\", \"ADJ\"]):\n",
    "    nlp = spacy.load(\"en_core_web_sm\", disable=[\"parser\", \"ner\"])\n",
    "    texts_out = []\n",
    "    \n",
    "    doc = nlp(texts)\n",
    "    new_text = []\n",
    "    for token in doc:\n",
    "        if token.pos_ in allowed_postags:\n",
    "            new_text.append(token.lemma_)\n",
    "    final = \" \".join(new_text)\n",
    "    texts_out.append(final)\n",
    "    return (texts_out)\n",
    "\n",
    "\n",
    "lemmatized_texts = lemmatization(data)\n",
    "print (lemmatized_texts[0])"
   ]
  },
  {
   "cell_type": "code",
   "execution_count": 7,
   "metadata": {},
   "outputs": [
    {
     "name": "stdout",
     "output_type": "stream",
     "text": [
      "['spending', 'advanced', 'expense', 'tracker', 'expense', 'approach', 'receipt', 'user', 'application', 'user', 'own', 'category', 'food', 'clothe', 'rent', 'bill', 'upper', 'low', 'bound', 'category', 'project', 'specific', 'user', 'demographic', 'age', 'range', 'available', 'track', 'spending', 'overall', 'goal', 'project', 'user', 'overall', 'spending', 'behavior', 'mobile', 'application', 'user', 'transaction', 'receipt']\n"
     ]
    }
   ],
   "source": [
    "def gen_words(texts):\n",
    "    final = []\n",
    "    for text in texts:\n",
    "        new = gensim.utils.simple_preprocess(text, deacc=True)\n",
    "        final.append(new)\n",
    "    return (final)\n",
    "\n",
    "data_words = gen_words(lemmatized_texts)\n",
    "\n",
    "print (data_words[0])"
   ]
  },
  {
   "cell_type": "code",
   "execution_count": 8,
   "metadata": {},
   "outputs": [
    {
     "name": "stdout",
     "output_type": "stream",
     "text": [
      "[(0, 1), (1, 1), (2, 2), (3, 1), (4, 1), (5, 1), (6, 1), (7, 1), (8, 2), (9, 1), (10, 1), (11, 2), (12, 1), (13, 1), (14, 1), (15, 1), (16, 2), (17, 1), (18, 2), (19, 1)]\n",
      "advanced\n"
     ]
    }
   ],
   "source": [
    "id2word = corpora.Dictionary(data_words)\n",
    "\n",
    "corpus = []\n",
    "for text in data_words:\n",
    "    new = id2word.doc2bow(text)\n",
    "    corpus.append(new)\n",
    "\n",
    "print (corpus[0][0:20])\n",
    "\n",
    "word = id2word[[0][:1][0]]\n",
    "print (word)"
   ]
  },
  {
   "cell_type": "code",
   "execution_count": 9,
   "metadata": {},
   "outputs": [],
   "source": [
    "lda_model = gensim.models.ldamodel.LdaModel(corpus=corpus,\n",
    "                                           id2word=id2word,\n",
    "                                           num_topics=5,\n",
    "                                           random_state=100,\n",
    "                                           update_every=1,\n",
    "                                           passes=10)"
   ]
  },
  {
   "cell_type": "code",
   "execution_count": 10,
   "metadata": {},
   "outputs": [
    {
     "data": {
      "text/plain": [
       "[(0,\n",
       "  '0.034*\"user\" + 0.034*\"receipt\" + 0.034*\"project\" + 0.034*\"category\" + 0.034*\"goal\" + 0.034*\"application\" + 0.034*\"mobile\" + 0.034*\"age\" + 0.034*\"spending\" + 0.034*\"behavior\"'),\n",
       " (1,\n",
       "  '0.035*\"user\" + 0.035*\"expense\" + 0.035*\"project\" + 0.035*\"spending\" + 0.035*\"category\" + 0.035*\"overall\" + 0.035*\"application\" + 0.035*\"receipt\" + 0.034*\"rent\" + 0.034*\"age\"'),\n",
       " (2,\n",
       "  '0.034*\"user\" + 0.034*\"receipt\" + 0.034*\"project\" + 0.034*\"mobile\" + 0.034*\"spending\" + 0.034*\"low\" + 0.034*\"age\" + 0.034*\"goal\" + 0.034*\"bill\" + 0.034*\"tracker\"'),\n",
       " (3,\n",
       "  '0.034*\"user\" + 0.034*\"category\" + 0.034*\"project\" + 0.034*\"expense\" + 0.034*\"age\" + 0.034*\"spending\" + 0.034*\"behavior\" + 0.034*\"receipt\" + 0.034*\"rent\" + 0.034*\"food\"'),\n",
       " (4,\n",
       "  '0.111*\"user\" + 0.068*\"spending\" + 0.047*\"receipt\" + 0.047*\"application\" + 0.047*\"overall\" + 0.047*\"category\" + 0.047*\"project\" + 0.047*\"expense\" + 0.026*\"clothe\" + 0.026*\"transaction\"')]"
      ]
     },
     "execution_count": 10,
     "metadata": {},
     "output_type": "execute_result"
    }
   ],
   "source": [
    "lda_model.print_topics()"
   ]
  },
  {
   "cell_type": "code",
   "execution_count": 11,
   "metadata": {},
   "outputs": [
    {
     "data": {
      "text/html": [
       "\n",
       "<link rel=\"stylesheet\" type=\"text/css\" href=\"https://cdn.jsdelivr.net/gh/bmabey/pyLDAvis@3.4.0/pyLDAvis/js/ldavis.v1.0.0.css\">\n",
       "\n",
       "\n",
       "<div id=\"ldavis_el1776428258551860006226038171\" style=\"background-color:white;\"></div>\n",
       "<script type=\"text/javascript\">\n",
       "\n",
       "var ldavis_el1776428258551860006226038171_data = {\"mdsDat\": {\"x\": [0.018141695626946387, -0.004455227137092616, -0.004562611052770035, -0.004565265485446337, -0.004558591951637397], \"y\": [0.003382338363964408, -0.000824300217182201, -0.0008508491992345757, -0.0008363943844158057, -0.000870794563131826], \"topics\": [1, 2, 3, 4, 5], \"cluster\": [1, 1, 1, 1, 1], \"Freq\": [98.09324510742891, 0.47670497472230255, 0.4766857429104203, 0.4766826229796791, 0.4766815519586784]}, \"tinfo\": {\"Term\": [\"user\", \"spending\", \"expense\", \"project\", \"category\", \"overall\", \"application\", \"receipt\", \"clothe\", \"transaction\", \"advanced\", \"tracker\", \"specific\", \"food\", \"track\", \"available\", \"mobile\", \"low\", \"upper\", \"bill\", \"range\", \"approach\", \"demographic\", \"own\", \"bound\", \"goal\", \"behavior\", \"age\", \"rent\", \"user\", \"spending\", \"receipt\", \"application\", \"overall\", \"category\", \"project\", \"expense\", \"clothe\", \"transaction\", \"advanced\", \"tracker\", \"specific\", \"food\", \"track\", \"available\", \"mobile\", \"low\", \"upper\", \"bill\", \"range\", \"approach\", \"demographic\", \"own\", \"bound\", \"goal\", \"behavior\", \"age\", \"rent\", \"rent\", \"age\", \"behavior\", \"goal\", \"bound\", \"own\", \"demographic\", \"approach\", \"range\", \"bill\", \"upper\", \"low\", \"mobile\", \"available\", \"track\", \"specific\", \"food\", \"tracker\", \"advanced\", \"transaction\", \"clothe\", \"expense\", \"project\", \"category\", \"overall\", \"application\", \"receipt\", \"spending\", \"user\", \"rent\", \"age\", \"behavior\", \"goal\", \"bound\", \"own\", \"demographic\", \"approach\", \"range\", \"bill\", \"upper\", \"low\", \"mobile\", \"available\", \"track\", \"food\", \"specific\", \"tracker\", \"advanced\", \"transaction\", \"clothe\", \"expense\", \"project\", \"category\", \"overall\", \"application\", \"receipt\", \"spending\", \"user\", \"rent\", \"age\", \"behavior\", \"goal\", \"bound\", \"own\", \"demographic\", \"approach\", \"range\", \"bill\", \"upper\", \"low\", \"mobile\", \"available\", \"track\", \"food\", \"specific\", \"tracker\", \"advanced\", \"transaction\", \"clothe\", \"expense\", \"project\", \"category\", \"overall\", \"application\", \"receipt\", \"spending\", \"user\", \"rent\", \"age\", \"behavior\", \"goal\", \"bound\", \"own\", \"demographic\", \"approach\", \"range\", \"bill\", \"upper\", \"low\", \"mobile\", \"available\", \"track\", \"food\", \"specific\", \"tracker\", \"advanced\", \"transaction\", \"clothe\", \"expense\", \"project\", \"category\", \"overall\", \"application\", \"receipt\", \"spending\", \"user\"], \"Freq\": [4.0, 2.0, 1.0, 1.0, 1.0, 1.0, 1.0, 1.0, 1.0, 1.0, 1.0, 1.0, 1.0, 1.0, 1.0, 1.0, 1.0, 1.0, 1.0, 1.0, 1.0, 1.0, 1.0, 1.0, 1.0, 1.0, 1.0, 1.0, 1.0, 4.470083115323728, 2.750290529802084, 1.8907003286547275, 1.8904982152986016, 1.890203660177665, 1.8899615436591333, 1.8894732653584556, 1.8890667912775294, 1.031944950057655, 1.0316689731844275, 1.0316170589680467, 1.031542596152632, 1.0315178750972125, 1.0315173507111886, 1.0315109082543217, 1.031504540709744, 1.0313872280649354, 1.0313706724490335, 1.031361458237468, 1.0313472998148188, 1.0313191327940985, 1.031223769450011, 1.0311544755825475, 1.0311444373358014, 1.0311382196158019, 1.0309719892461788, 1.0309382038037724, 1.0308904097632947, 1.0308803715165489, 0.006735299024512965, 0.006734862889986903, 0.0067330331636697195, 0.00673172039146523, 0.006725301423215214, 0.006725057508246549, 0.006724694912263279, 0.006721987820163283, 0.0067182941466228645, 0.00671722164886512, 0.006716649358819236, 0.006716288947149119, 0.006715625644055225, 0.006711130327587939, 0.006710887868828041, 0.006710611917266476, 0.006710601723805099, 0.006709642810331271, 0.006706797378398301, 0.006704753589392199, 0.006694089772583019, 0.0068247546572449535, 0.00680896207315434, 0.006790059755239337, 0.006780740019123162, 0.006769289121474795, 0.00676139137322072, 0.0067965078476647164, 0.006842759950558774, 0.006739356434897398, 0.006739367356022548, 0.006739360075272448, 0.006739345513772248, 0.006739343329547218, 0.006739349882222308, 0.006739330952272048, 0.006739344785697238, 0.006739338961097158, 0.006739328039972008, 0.006739345513772248, 0.006739336048797118, 0.006739346241847258, 0.006739335320722108, 0.006739336776872128, 0.006739351338372328, 0.006739338233022148, 0.006739339689172168, 0.006739326583821988, 0.006739344785697238, 0.006739325855746978, 0.006739368812172568, 0.006739371724472608, 0.006739380461372728, 0.006739349882222308, 0.006739345513772248, 0.006739357891047418, 0.006739363715647498, 0.006739407400148098, 0.006739288299172591, 0.006739315237771645, 0.006739311597420422, 0.006739318878122869, 0.006739302860577485, 0.00673930358864773, 0.006739297764085772, 0.006739305772858464, 0.006739308685139443, 0.006739293395664304, 0.006739308685139443, 0.006739305772858464, 0.00673931596584189, 0.006739295579875038, 0.006739298492156017, 0.006739305044788219, 0.00673928975531308, 0.00673928975531308, 0.006739281746540388, 0.006739282474610633, 0.006739282474610633, 0.006739306500928709, 0.006739330527246784, 0.0067393276149658055, 0.006739302860577485, 0.006739316693912135, 0.006739341448300455, 0.0067393123254906664, 0.006739342904440945, 0.0067392877185636045, 0.00673929718345552, 0.006739284806289169, 0.00673929718345552, 0.006739289902769431, 0.006739286990494996, 0.006739284806289169, 0.006739281165946125, 0.0067392877185636045, 0.006739292815043867, 0.0067392818940147335, 0.006739300095729955, 0.006739300823798564, 0.006739278981740298, 0.006739272429122818, 0.006739284806289169, 0.006739282622083342, 0.006739292815043867, 0.006739278253671689, 0.006739292086975258, 0.006739278981740298, 0.006739286262426387, 0.006739301551867173, 0.006739279709808907, 0.0067392760694658625, 0.006739292086975258, 0.006739318297445177, 0.006739300823798564, 0.00673934232370927], \"Total\": [4.0, 2.0, 1.0, 1.0, 1.0, 1.0, 1.0, 1.0, 1.0, 1.0, 1.0, 1.0, 1.0, 1.0, 1.0, 1.0, 1.0, 1.0, 1.0, 1.0, 1.0, 1.0, 1.0, 1.0, 1.0, 1.0, 1.0, 1.0, 1.0, 4.497143967902586, 2.7773050145146856, 1.9176797376647412, 1.917485458714736, 1.9172023290090539, 1.91696959120052, 1.9165002312351964, 1.916109507510302, 1.0588569271423358, 1.058591646121103, 1.058541742930479, 1.0584701612224925, 1.0584463976248975, 1.0584458936244432, 1.0584397038213007, 1.0584335809196694, 1.0583208167404785, 1.0583049033135679, 1.0582960436892137, 1.0582824357143639, 1.0582553623055218, 1.058163688994676, 1.058097084017458, 1.058087435305413, 1.0580814571319113, 1.0579216712129946, 1.0578891934464243, 1.0578432524305312, 1.0578336029936954, 1.0578336029936954, 1.0578432524305312, 1.0578891934464243, 1.0579216712129946, 1.0580814571319113, 1.058087435305413, 1.058097084017458, 1.058163688994676, 1.0582553623055218, 1.0582824357143639, 1.0582960436892137, 1.0583049033135679, 1.0583208167404785, 1.0584335809196694, 1.0584397038213007, 1.0584463976248975, 1.0584458936244432, 1.0584701612224925, 1.058541742930479, 1.058591646121103, 1.0588569271423358, 1.916109507510302, 1.9165002312351964, 1.91696959120052, 1.9172023290090539, 1.917485458714736, 1.9176797376647412, 2.7773050145146856, 4.497143967902586, 1.0578336029936954, 1.0578432524305312, 1.0578891934464243, 1.0579216712129946, 1.0580814571319113, 1.058087435305413, 1.058097084017458, 1.058163688994676, 1.0582553623055218, 1.0582824357143639, 1.0582960436892137, 1.0583049033135679, 1.0583208167404785, 1.0584335809196694, 1.0584397038213007, 1.0584458936244432, 1.0584463976248975, 1.0584701612224925, 1.058541742930479, 1.058591646121103, 1.0588569271423358, 1.916109507510302, 1.9165002312351964, 1.91696959120052, 1.9172023290090539, 1.917485458714736, 1.9176797376647412, 2.7773050145146856, 4.497143967902586, 1.0578336029936954, 1.0578432524305312, 1.0578891934464243, 1.0579216712129946, 1.0580814571319113, 1.058087435305413, 1.058097084017458, 1.058163688994676, 1.0582553623055218, 1.0582824357143639, 1.0582960436892137, 1.0583049033135679, 1.0583208167404785, 1.0584335809196694, 1.0584397038213007, 1.0584458936244432, 1.0584463976248975, 1.0584701612224925, 1.058541742930479, 1.058591646121103, 1.0588569271423358, 1.916109507510302, 1.9165002312351964, 1.91696959120052, 1.9172023290090539, 1.917485458714736, 1.9176797376647412, 2.7773050145146856, 4.497143967902586, 1.0578336029936954, 1.0578432524305312, 1.0578891934464243, 1.0579216712129946, 1.0580814571319113, 1.058087435305413, 1.058097084017458, 1.058163688994676, 1.0582553623055218, 1.0582824357143639, 1.0582960436892137, 1.0583049033135679, 1.0583208167404785, 1.0584335809196694, 1.0584397038213007, 1.0584458936244432, 1.0584463976248975, 1.0584701612224925, 1.058541742930479, 1.058591646121103, 1.0588569271423358, 1.916109507510302, 1.9165002312351964, 1.91696959120052, 1.9172023290090539, 1.917485458714736, 1.9176797376647412, 2.7773050145146856, 4.497143967902586], \"Category\": [\"Default\", \"Default\", \"Default\", \"Default\", \"Default\", \"Default\", \"Default\", \"Default\", \"Default\", \"Default\", \"Default\", \"Default\", \"Default\", \"Default\", \"Default\", \"Default\", \"Default\", \"Default\", \"Default\", \"Default\", \"Default\", \"Default\", \"Default\", \"Default\", \"Default\", \"Default\", \"Default\", \"Default\", \"Default\", \"Topic1\", \"Topic1\", \"Topic1\", \"Topic1\", \"Topic1\", \"Topic1\", \"Topic1\", \"Topic1\", \"Topic1\", \"Topic1\", \"Topic1\", \"Topic1\", \"Topic1\", \"Topic1\", \"Topic1\", \"Topic1\", \"Topic1\", \"Topic1\", \"Topic1\", \"Topic1\", \"Topic1\", \"Topic1\", \"Topic1\", \"Topic1\", \"Topic1\", \"Topic1\", \"Topic1\", \"Topic1\", \"Topic1\", \"Topic2\", \"Topic2\", \"Topic2\", \"Topic2\", \"Topic2\", \"Topic2\", \"Topic2\", \"Topic2\", \"Topic2\", \"Topic2\", \"Topic2\", \"Topic2\", \"Topic2\", \"Topic2\", \"Topic2\", \"Topic2\", \"Topic2\", \"Topic2\", \"Topic2\", \"Topic2\", \"Topic2\", \"Topic2\", \"Topic2\", \"Topic2\", \"Topic2\", \"Topic2\", \"Topic2\", \"Topic2\", \"Topic2\", \"Topic3\", \"Topic3\", \"Topic3\", \"Topic3\", \"Topic3\", \"Topic3\", \"Topic3\", \"Topic3\", \"Topic3\", \"Topic3\", \"Topic3\", \"Topic3\", \"Topic3\", \"Topic3\", \"Topic3\", \"Topic3\", \"Topic3\", \"Topic3\", \"Topic3\", \"Topic3\", \"Topic3\", \"Topic3\", \"Topic3\", \"Topic3\", \"Topic3\", \"Topic3\", \"Topic3\", \"Topic3\", \"Topic3\", \"Topic4\", \"Topic4\", \"Topic4\", \"Topic4\", \"Topic4\", \"Topic4\", \"Topic4\", \"Topic4\", \"Topic4\", \"Topic4\", \"Topic4\", \"Topic4\", \"Topic4\", \"Topic4\", \"Topic4\", \"Topic4\", \"Topic4\", \"Topic4\", \"Topic4\", \"Topic4\", \"Topic4\", \"Topic4\", \"Topic4\", \"Topic4\", \"Topic4\", \"Topic4\", \"Topic4\", \"Topic4\", \"Topic4\", \"Topic5\", \"Topic5\", \"Topic5\", \"Topic5\", \"Topic5\", \"Topic5\", \"Topic5\", \"Topic5\", \"Topic5\", \"Topic5\", \"Topic5\", \"Topic5\", \"Topic5\", \"Topic5\", \"Topic5\", \"Topic5\", \"Topic5\", \"Topic5\", \"Topic5\", \"Topic5\", \"Topic5\", \"Topic5\", \"Topic5\", \"Topic5\", \"Topic5\", \"Topic5\", \"Topic5\", \"Topic5\", \"Topic5\"], \"logprob\": [29.0, 28.0, 27.0, 26.0, 25.0, 24.0, 23.0, 22.0, 21.0, 20.0, 19.0, 18.0, 17.0, 16.0, 15.0, 14.0, 13.0, 12.0, 11.0, 10.0, 9.0, 8.0, 7.0, 6.0, 5.0, 4.0, 3.0, 2.0, 1.0, -2.1969, -2.6826, -3.0574, -3.0575, -3.0576, -3.0578, -3.058, -3.0582, -3.6629, -3.6631, -3.6632, -3.6633, -3.6633, -3.6633, -3.6633, -3.6633, -3.6634, -3.6634, -3.6634, -3.6635, -3.6635, -3.6636, -3.6636, -3.6637, -3.6637, -3.6638, -3.6639, -3.6639, -3.6639, -3.3679, -3.368, -3.3683, -3.3685, -3.3694, -3.3695, -3.3695, -3.3699, -3.3705, -3.3706, -3.3707, -3.3708, -3.3709, -3.3715, -3.3716, -3.3716, -3.3716, -3.3718, -3.3722, -3.3725, -3.3741, -3.3547, -3.3571, -3.3598, -3.3612, -3.3629, -3.3641, -3.3589, -3.3521, -3.3673, -3.3673, -3.3673, -3.3673, -3.3673, -3.3673, -3.3673, -3.3673, -3.3673, -3.3673, -3.3673, -3.3673, -3.3673, -3.3673, -3.3673, -3.3673, -3.3673, -3.3673, -3.3673, -3.3673, -3.3673, -3.3673, -3.3673, -3.3673, -3.3673, -3.3673, -3.3673, -3.3673, -3.3673, -3.3673, -3.3673, -3.3673, -3.3673, -3.3673, -3.3673, -3.3673, -3.3673, -3.3673, -3.3673, -3.3673, -3.3673, -3.3673, -3.3673, -3.3673, -3.3673, -3.3673, -3.3673, -3.3673, -3.3673, -3.3673, -3.3673, -3.3673, -3.3673, -3.3673, -3.3673, -3.3673, -3.3673, -3.3673, -3.3673, -3.3673, -3.3673, -3.3673, -3.3673, -3.3673, -3.3673, -3.3673, -3.3673, -3.3673, -3.3673, -3.3673, -3.3673, -3.3673, -3.3673, -3.3673, -3.3673, -3.3673, -3.3673, -3.3673, -3.3673, -3.3673, -3.3673, -3.3673, -3.3673, -3.3673, -3.3673, -3.3673, -3.3673], \"loglift\": [29.0, 28.0, 27.0, 26.0, 25.0, 24.0, 23.0, 22.0, 21.0, 20.0, 19.0, 18.0, 17.0, 16.0, 15.0, 14.0, 13.0, 12.0, 11.0, 10.0, 9.0, 8.0, 7.0, 6.0, 5.0, 4.0, 3.0, 2.0, 1.0, 0.0132, 0.0095, 0.0051, 0.0051, 0.0051, 0.0051, 0.005, 0.005, -0.0065, -0.0065, -0.0065, -0.0065, -0.0065, -0.0065, -0.0065, -0.0065, -0.0065, -0.0065, -0.0065, -0.0065, -0.0065, -0.0065, -0.0065, -0.0065, -0.0065, -0.0066, -0.0066, -0.0066, -0.0066, 0.2894, 0.2893, 0.289, 0.2888, 0.2877, 0.2876, 0.2876, 0.2871, 0.2865, 0.2863, 0.2862, 0.2861, 0.286, 0.2852, 0.2852, 0.2852, 0.2852, 0.285, 0.2845, 0.2841, 0.2823, -0.2915, -0.294, -0.297, -0.2985, -0.3003, -0.3016, -0.6668, -1.142, 0.2901, 0.29, 0.29, 0.29, 0.2898, 0.2898, 0.2898, 0.2897, 0.2897, 0.2896, 0.2896, 0.2896, 0.2896, 0.2895, 0.2895, 0.2895, 0.2895, 0.2895, 0.2894, 0.2893, 0.2891, -0.304, -0.3042, -0.3045, -0.3046, -0.3047, -0.3048, -0.6752, -1.1572, 0.2901, 0.29, 0.29, 0.29, 0.2898, 0.2898, 0.2898, 0.2897, 0.2897, 0.2896, 0.2896, 0.2896, 0.2896, 0.2895, 0.2895, 0.2895, 0.2895, 0.2894, 0.2894, 0.2893, 0.2891, -0.304, -0.3042, -0.3045, -0.3046, -0.3047, -0.3048, -0.6752, -1.1572, 0.2901, 0.29, 0.29, 0.29, 0.2898, 0.2898, 0.2898, 0.2897, 0.2897, 0.2896, 0.2896, 0.2896, 0.2896, 0.2895, 0.2895, 0.2895, 0.2895, 0.2895, 0.2894, 0.2893, 0.2891, -0.304, -0.3042, -0.3045, -0.3046, -0.3047, -0.3048, -0.6752, -1.1572]}, \"token.table\": {\"Topic\": [1, 1, 1, 1, 1, 1, 1, 1, 1, 1, 1, 1, 1, 1, 1, 1, 1, 1, 1, 1, 1, 1, 1, 1, 1, 1, 1, 1, 1], \"Freq\": [0.9446958579371547, 0.9453196375761448, 1.0430326816353395, 0.9450333728140538, 0.9447923970166398, 0.9452785851249401, 0.9449273334343663, 0.9451068188177593, 1.0433133677136117, 0.9444146554330243, 0.9450928606693907, 1.0437816795756631, 0.944781406421913, 0.9452495654554627, 0.9449072728180562, 0.944893064732393, 1.0431867152142162, 0.9451014789825509, 1.043568880088779, 0.9449515075656161, 1.042927012638463, 0.9453282606734889, 0.9447809565453212, 1.0801838416455778, 0.9447869315462043, 0.9447597453716015, 0.94465132392099, 0.9449151831977052, 0.8894534016587314], \"Term\": [\"advanced\", \"age\", \"application\", \"approach\", \"available\", \"behavior\", \"bill\", \"bound\", \"category\", \"clothe\", \"demographic\", \"expense\", \"food\", \"goal\", \"low\", \"mobile\", \"overall\", \"own\", \"project\", \"range\", \"receipt\", \"rent\", \"specific\", \"spending\", \"track\", \"tracker\", \"transaction\", \"upper\", \"user\"]}, \"R\": 29, \"lambda.step\": 0.01, \"plot.opts\": {\"xlab\": \"PC1\", \"ylab\": \"PC2\"}, \"topic.order\": [5, 2, 4, 1, 3]};\n",
       "\n",
       "function LDAvis_load_lib(url, callback){\n",
       "  var s = document.createElement('script');\n",
       "  s.src = url;\n",
       "  s.async = true;\n",
       "  s.onreadystatechange = s.onload = callback;\n",
       "  s.onerror = function(){console.warn(\"failed to load library \" + url);};\n",
       "  document.getElementsByTagName(\"head\")[0].appendChild(s);\n",
       "}\n",
       "\n",
       "if(typeof(LDAvis) !== \"undefined\"){\n",
       "   // already loaded: just create the visualization\n",
       "   !function(LDAvis){\n",
       "       new LDAvis(\"#\" + \"ldavis_el1776428258551860006226038171\", ldavis_el1776428258551860006226038171_data);\n",
       "   }(LDAvis);\n",
       "}else if(typeof define === \"function\" && define.amd){\n",
       "   // require.js is available: use it to load d3/LDAvis\n",
       "   require.config({paths: {d3: \"https://d3js.org/d3.v5\"}});\n",
       "   require([\"d3\"], function(d3){\n",
       "      window.d3 = d3;\n",
       "      LDAvis_load_lib(\"https://cdn.jsdelivr.net/gh/bmabey/pyLDAvis@3.4.0/pyLDAvis/js/ldavis.v3.0.0.js\", function(){\n",
       "        new LDAvis(\"#\" + \"ldavis_el1776428258551860006226038171\", ldavis_el1776428258551860006226038171_data);\n",
       "      });\n",
       "    });\n",
       "}else{\n",
       "    // require.js not available: dynamically load d3 & LDAvis\n",
       "    LDAvis_load_lib(\"https://d3js.org/d3.v5.js\", function(){\n",
       "         LDAvis_load_lib(\"https://cdn.jsdelivr.net/gh/bmabey/pyLDAvis@3.4.0/pyLDAvis/js/ldavis.v3.0.0.js\", function(){\n",
       "                 new LDAvis(\"#\" + \"ldavis_el1776428258551860006226038171\", ldavis_el1776428258551860006226038171_data);\n",
       "            })\n",
       "         });\n",
       "}\n",
       "</script>"
      ],
      "text/plain": [
       "PreparedData(topic_coordinates=              x         y  topics  cluster       Freq\n",
       "topic                                                \n",
       "4      0.018142  0.003382       1        1  98.093245\n",
       "1     -0.004455 -0.000824       2        1   0.476705\n",
       "3     -0.004563 -0.000851       3        1   0.476686\n",
       "0     -0.004565 -0.000836       4        1   0.476683\n",
       "2     -0.004559 -0.000871       5        1   0.476682, topic_info=           Term      Freq     Total Category  logprob  loglift\n",
       "28         user  4.000000  4.000000  Default  29.0000  29.0000\n",
       "23     spending  2.000000  2.000000  Default  28.0000  28.0000\n",
       "11      expense  1.000000  1.000000  Default  27.0000  27.0000\n",
       "18      project  1.000000  1.000000  Default  26.0000  26.0000\n",
       "8      category  1.000000  1.000000  Default  25.0000  25.0000\n",
       "..          ...       ...       ...      ...      ...      ...\n",
       "16      overall  0.006739  1.917202   Topic5  -3.3673  -0.3046\n",
       "2   application  0.006739  1.917485   Topic5  -3.3673  -0.3047\n",
       "20      receipt  0.006739  1.917680   Topic5  -3.3673  -0.3048\n",
       "23     spending  0.006739  2.777305   Topic5  -3.3673  -0.6752\n",
       "28         user  0.006739  4.497144   Topic5  -3.3673  -1.1572\n",
       "\n",
       "[174 rows x 6 columns], token_table=      Topic      Freq         Term\n",
       "term                              \n",
       "0         1  0.944696     advanced\n",
       "1         1  0.945320          age\n",
       "2         1  1.043033  application\n",
       "3         1  0.945033     approach\n",
       "4         1  0.944792    available\n",
       "5         1  0.945279     behavior\n",
       "6         1  0.944927         bill\n",
       "7         1  0.945107        bound\n",
       "8         1  1.043313     category\n",
       "9         1  0.944415       clothe\n",
       "10        1  0.945093  demographic\n",
       "11        1  1.043782      expense\n",
       "12        1  0.944781         food\n",
       "13        1  0.945250         goal\n",
       "14        1  0.944907          low\n",
       "15        1  0.944893       mobile\n",
       "16        1  1.043187      overall\n",
       "17        1  0.945101          own\n",
       "18        1  1.043569      project\n",
       "19        1  0.944952        range\n",
       "20        1  1.042927      receipt\n",
       "21        1  0.945328         rent\n",
       "22        1  0.944781     specific\n",
       "23        1  1.080184     spending\n",
       "24        1  0.944787        track\n",
       "25        1  0.944760      tracker\n",
       "26        1  0.944651  transaction\n",
       "27        1  0.944915        upper\n",
       "28        1  0.889453         user, R=29, lambda_step=0.01, plot_opts={'xlab': 'PC1', 'ylab': 'PC2'}, topic_order=[5, 2, 4, 1, 3])"
      ]
     },
     "execution_count": 11,
     "metadata": {},
     "output_type": "execute_result"
    }
   ],
   "source": [
    "pyLDAvis.enable_notebook()\n",
    "vis = pyLDAvis.gensim.prepare(lda_model, corpus, id2word, mds=\"mmds\", R=30)\n",
    "vis"
   ]
  }
 ],
 "metadata": {
  "kernelspec": {
   "display_name": "Python 3",
   "language": "python",
   "name": "python3"
  },
  "language_info": {
   "codemirror_mode": {
    "name": "ipython",
    "version": 3
   },
   "file_extension": ".py",
   "mimetype": "text/x-python",
   "name": "python",
   "nbconvert_exporter": "python",
   "pygments_lexer": "ipython3",
   "version": "3.10.9"
  }
 },
 "nbformat": 4,
 "nbformat_minor": 2
}
